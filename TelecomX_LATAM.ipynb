{
  "nbformat": 4,
  "nbformat_minor": 0,
  "metadata": {
    "colab": {
      "provenance": [],
      "include_colab_link": true
    },
    "kernelspec": {
      "name": "python3",
      "display_name": "Python 3"
    },
    "language_info": {
      "name": "python"
    }
  },
  "cells": [
    {
      "cell_type": "markdown",
      "metadata": {
        "id": "view-in-github",
        "colab_type": "text"
      },
      "source": [
        "<a href=\"https://colab.research.google.com/github/juanpimedicen/Challenge_TelecomX/blob/main/TelecomX_LATAM.ipynb\" target=\"_parent\"><img src=\"https://colab.research.google.com/assets/colab-badge.svg\" alt=\"Open In Colab\"/></a>"
      ]
    },
    {
      "cell_type": "markdown",
      "source": [
        "#📌 Extracción"
      ],
      "metadata": {
        "id": "4foVEKhrlqcH"
      }
    },
    {
      "cell_type": "code",
      "source": [
        "import pandas as pd\n",
        "import requests"
      ],
      "metadata": {
        "id": "1--uPM88l7JH"
      },
      "execution_count": 1,
      "outputs": []
    },
    {
      "cell_type": "markdown",
      "source": [
        "## Guardar el archivo desde la API en una variable manejable"
      ],
      "metadata": {
        "id": "3OgTYPpo9xWG"
      }
    },
    {
      "cell_type": "code",
      "source": [
        "url = 'https://raw.githubusercontent.com/alura-cursos/challenge2-data-science-LATAM/refs/heads/main/TelecomX_Data.json'"
      ],
      "metadata": {
        "id": "UWNJfkJe9vZO"
      },
      "execution_count": 2,
      "outputs": []
    },
    {
      "cell_type": "code",
      "source": [
        "resp = requests.get(url)\n",
        "data= resp.json()"
      ],
      "metadata": {
        "id": "ZJ7yKWE7eGUm"
      },
      "execution_count": 3,
      "outputs": []
    },
    {
      "cell_type": "code",
      "source": [
        "df = pd.json_normalize(data)\n",
        "df.columns = [c.replace('.', '_') for c in df.columns]\n",
        "df.head()"
      ],
      "metadata": {
        "id": "ihFH6hNC-0qp",
        "colab": {
          "base_uri": "https://localhost:8080/",
          "height": 307
        },
        "outputId": "71968137-05d4-4dfc-b8ce-991bf41302dd"
      },
      "execution_count": 4,
      "outputs": [
        {
          "output_type": "execute_result",
          "data": {
            "text/plain": [
              "   customerID Churn customer_gender  customer_SeniorCitizen customer_Partner  \\\n",
              "0  0002-ORFBO    No          Female                       0              Yes   \n",
              "1  0003-MKNFE    No            Male                       0               No   \n",
              "2  0004-TLHLJ   Yes            Male                       0               No   \n",
              "3  0011-IGKFF   Yes            Male                       1              Yes   \n",
              "4  0013-EXCHZ   Yes          Female                       1              Yes   \n",
              "\n",
              "  customer_Dependents  customer_tenure phone_PhoneService phone_MultipleLines  \\\n",
              "0                 Yes                9                Yes                  No   \n",
              "1                  No                9                Yes                 Yes   \n",
              "2                  No                4                Yes                  No   \n",
              "3                  No               13                Yes                  No   \n",
              "4                  No                3                Yes                  No   \n",
              "\n",
              "  internet_InternetService  ... internet_OnlineBackup  \\\n",
              "0                      DSL  ...                   Yes   \n",
              "1                      DSL  ...                    No   \n",
              "2              Fiber optic  ...                    No   \n",
              "3              Fiber optic  ...                   Yes   \n",
              "4              Fiber optic  ...                    No   \n",
              "\n",
              "  internet_DeviceProtection internet_TechSupport internet_StreamingTV  \\\n",
              "0                        No                  Yes                  Yes   \n",
              "1                        No                   No                   No   \n",
              "2                       Yes                   No                   No   \n",
              "3                       Yes                   No                  Yes   \n",
              "4                        No                  Yes                  Yes   \n",
              "\n",
              "  internet_StreamingMovies account_Contract account_PaperlessBilling  \\\n",
              "0                       No         One year                      Yes   \n",
              "1                      Yes   Month-to-month                       No   \n",
              "2                       No   Month-to-month                      Yes   \n",
              "3                      Yes   Month-to-month                      Yes   \n",
              "4                       No   Month-to-month                      Yes   \n",
              "\n",
              "  account_PaymentMethod account_Charges_Monthly  account_Charges_Total  \n",
              "0          Mailed check                    65.6                  593.3  \n",
              "1          Mailed check                    59.9                  542.4  \n",
              "2      Electronic check                    73.9                 280.85  \n",
              "3      Electronic check                    98.0                1237.85  \n",
              "4          Mailed check                    83.9                  267.4  \n",
              "\n",
              "[5 rows x 21 columns]"
            ],
            "text/html": [
              "\n",
              "  <div id=\"df-94f9cce4-c403-4d2f-8786-adea656e38d8\" class=\"colab-df-container\">\n",
              "    <div>\n",
              "<style scoped>\n",
              "    .dataframe tbody tr th:only-of-type {\n",
              "        vertical-align: middle;\n",
              "    }\n",
              "\n",
              "    .dataframe tbody tr th {\n",
              "        vertical-align: top;\n",
              "    }\n",
              "\n",
              "    .dataframe thead th {\n",
              "        text-align: right;\n",
              "    }\n",
              "</style>\n",
              "<table border=\"1\" class=\"dataframe\">\n",
              "  <thead>\n",
              "    <tr style=\"text-align: right;\">\n",
              "      <th></th>\n",
              "      <th>customerID</th>\n",
              "      <th>Churn</th>\n",
              "      <th>customer_gender</th>\n",
              "      <th>customer_SeniorCitizen</th>\n",
              "      <th>customer_Partner</th>\n",
              "      <th>customer_Dependents</th>\n",
              "      <th>customer_tenure</th>\n",
              "      <th>phone_PhoneService</th>\n",
              "      <th>phone_MultipleLines</th>\n",
              "      <th>internet_InternetService</th>\n",
              "      <th>...</th>\n",
              "      <th>internet_OnlineBackup</th>\n",
              "      <th>internet_DeviceProtection</th>\n",
              "      <th>internet_TechSupport</th>\n",
              "      <th>internet_StreamingTV</th>\n",
              "      <th>internet_StreamingMovies</th>\n",
              "      <th>account_Contract</th>\n",
              "      <th>account_PaperlessBilling</th>\n",
              "      <th>account_PaymentMethod</th>\n",
              "      <th>account_Charges_Monthly</th>\n",
              "      <th>account_Charges_Total</th>\n",
              "    </tr>\n",
              "  </thead>\n",
              "  <tbody>\n",
              "    <tr>\n",
              "      <th>0</th>\n",
              "      <td>0002-ORFBO</td>\n",
              "      <td>No</td>\n",
              "      <td>Female</td>\n",
              "      <td>0</td>\n",
              "      <td>Yes</td>\n",
              "      <td>Yes</td>\n",
              "      <td>9</td>\n",
              "      <td>Yes</td>\n",
              "      <td>No</td>\n",
              "      <td>DSL</td>\n",
              "      <td>...</td>\n",
              "      <td>Yes</td>\n",
              "      <td>No</td>\n",
              "      <td>Yes</td>\n",
              "      <td>Yes</td>\n",
              "      <td>No</td>\n",
              "      <td>One year</td>\n",
              "      <td>Yes</td>\n",
              "      <td>Mailed check</td>\n",
              "      <td>65.6</td>\n",
              "      <td>593.3</td>\n",
              "    </tr>\n",
              "    <tr>\n",
              "      <th>1</th>\n",
              "      <td>0003-MKNFE</td>\n",
              "      <td>No</td>\n",
              "      <td>Male</td>\n",
              "      <td>0</td>\n",
              "      <td>No</td>\n",
              "      <td>No</td>\n",
              "      <td>9</td>\n",
              "      <td>Yes</td>\n",
              "      <td>Yes</td>\n",
              "      <td>DSL</td>\n",
              "      <td>...</td>\n",
              "      <td>No</td>\n",
              "      <td>No</td>\n",
              "      <td>No</td>\n",
              "      <td>No</td>\n",
              "      <td>Yes</td>\n",
              "      <td>Month-to-month</td>\n",
              "      <td>No</td>\n",
              "      <td>Mailed check</td>\n",
              "      <td>59.9</td>\n",
              "      <td>542.4</td>\n",
              "    </tr>\n",
              "    <tr>\n",
              "      <th>2</th>\n",
              "      <td>0004-TLHLJ</td>\n",
              "      <td>Yes</td>\n",
              "      <td>Male</td>\n",
              "      <td>0</td>\n",
              "      <td>No</td>\n",
              "      <td>No</td>\n",
              "      <td>4</td>\n",
              "      <td>Yes</td>\n",
              "      <td>No</td>\n",
              "      <td>Fiber optic</td>\n",
              "      <td>...</td>\n",
              "      <td>No</td>\n",
              "      <td>Yes</td>\n",
              "      <td>No</td>\n",
              "      <td>No</td>\n",
              "      <td>No</td>\n",
              "      <td>Month-to-month</td>\n",
              "      <td>Yes</td>\n",
              "      <td>Electronic check</td>\n",
              "      <td>73.9</td>\n",
              "      <td>280.85</td>\n",
              "    </tr>\n",
              "    <tr>\n",
              "      <th>3</th>\n",
              "      <td>0011-IGKFF</td>\n",
              "      <td>Yes</td>\n",
              "      <td>Male</td>\n",
              "      <td>1</td>\n",
              "      <td>Yes</td>\n",
              "      <td>No</td>\n",
              "      <td>13</td>\n",
              "      <td>Yes</td>\n",
              "      <td>No</td>\n",
              "      <td>Fiber optic</td>\n",
              "      <td>...</td>\n",
              "      <td>Yes</td>\n",
              "      <td>Yes</td>\n",
              "      <td>No</td>\n",
              "      <td>Yes</td>\n",
              "      <td>Yes</td>\n",
              "      <td>Month-to-month</td>\n",
              "      <td>Yes</td>\n",
              "      <td>Electronic check</td>\n",
              "      <td>98.0</td>\n",
              "      <td>1237.85</td>\n",
              "    </tr>\n",
              "    <tr>\n",
              "      <th>4</th>\n",
              "      <td>0013-EXCHZ</td>\n",
              "      <td>Yes</td>\n",
              "      <td>Female</td>\n",
              "      <td>1</td>\n",
              "      <td>Yes</td>\n",
              "      <td>No</td>\n",
              "      <td>3</td>\n",
              "      <td>Yes</td>\n",
              "      <td>No</td>\n",
              "      <td>Fiber optic</td>\n",
              "      <td>...</td>\n",
              "      <td>No</td>\n",
              "      <td>No</td>\n",
              "      <td>Yes</td>\n",
              "      <td>Yes</td>\n",
              "      <td>No</td>\n",
              "      <td>Month-to-month</td>\n",
              "      <td>Yes</td>\n",
              "      <td>Mailed check</td>\n",
              "      <td>83.9</td>\n",
              "      <td>267.4</td>\n",
              "    </tr>\n",
              "  </tbody>\n",
              "</table>\n",
              "<p>5 rows × 21 columns</p>\n",
              "</div>\n",
              "    <div class=\"colab-df-buttons\">\n",
              "\n",
              "  <div class=\"colab-df-container\">\n",
              "    <button class=\"colab-df-convert\" onclick=\"convertToInteractive('df-94f9cce4-c403-4d2f-8786-adea656e38d8')\"\n",
              "            title=\"Convert this dataframe to an interactive table.\"\n",
              "            style=\"display:none;\">\n",
              "\n",
              "  <svg xmlns=\"http://www.w3.org/2000/svg\" height=\"24px\" viewBox=\"0 -960 960 960\">\n",
              "    <path d=\"M120-120v-720h720v720H120Zm60-500h600v-160H180v160Zm220 220h160v-160H400v160Zm0 220h160v-160H400v160ZM180-400h160v-160H180v160Zm440 0h160v-160H620v160ZM180-180h160v-160H180v160Zm440 0h160v-160H620v160Z\"/>\n",
              "  </svg>\n",
              "    </button>\n",
              "\n",
              "  <style>\n",
              "    .colab-df-container {\n",
              "      display:flex;\n",
              "      gap: 12px;\n",
              "    }\n",
              "\n",
              "    .colab-df-convert {\n",
              "      background-color: #E8F0FE;\n",
              "      border: none;\n",
              "      border-radius: 50%;\n",
              "      cursor: pointer;\n",
              "      display: none;\n",
              "      fill: #1967D2;\n",
              "      height: 32px;\n",
              "      padding: 0 0 0 0;\n",
              "      width: 32px;\n",
              "    }\n",
              "\n",
              "    .colab-df-convert:hover {\n",
              "      background-color: #E2EBFA;\n",
              "      box-shadow: 0px 1px 2px rgba(60, 64, 67, 0.3), 0px 1px 3px 1px rgba(60, 64, 67, 0.15);\n",
              "      fill: #174EA6;\n",
              "    }\n",
              "\n",
              "    .colab-df-buttons div {\n",
              "      margin-bottom: 4px;\n",
              "    }\n",
              "\n",
              "    [theme=dark] .colab-df-convert {\n",
              "      background-color: #3B4455;\n",
              "      fill: #D2E3FC;\n",
              "    }\n",
              "\n",
              "    [theme=dark] .colab-df-convert:hover {\n",
              "      background-color: #434B5C;\n",
              "      box-shadow: 0px 1px 3px 1px rgba(0, 0, 0, 0.15);\n",
              "      filter: drop-shadow(0px 1px 2px rgba(0, 0, 0, 0.3));\n",
              "      fill: #FFFFFF;\n",
              "    }\n",
              "  </style>\n",
              "\n",
              "    <script>\n",
              "      const buttonEl =\n",
              "        document.querySelector('#df-94f9cce4-c403-4d2f-8786-adea656e38d8 button.colab-df-convert');\n",
              "      buttonEl.style.display =\n",
              "        google.colab.kernel.accessAllowed ? 'block' : 'none';\n",
              "\n",
              "      async function convertToInteractive(key) {\n",
              "        const element = document.querySelector('#df-94f9cce4-c403-4d2f-8786-adea656e38d8');\n",
              "        const dataTable =\n",
              "          await google.colab.kernel.invokeFunction('convertToInteractive',\n",
              "                                                    [key], {});\n",
              "        if (!dataTable) return;\n",
              "\n",
              "        const docLinkHtml = 'Like what you see? Visit the ' +\n",
              "          '<a target=\"_blank\" href=https://colab.research.google.com/notebooks/data_table.ipynb>data table notebook</a>'\n",
              "          + ' to learn more about interactive tables.';\n",
              "        element.innerHTML = '';\n",
              "        dataTable['output_type'] = 'display_data';\n",
              "        await google.colab.output.renderOutput(dataTable, element);\n",
              "        const docLink = document.createElement('div');\n",
              "        docLink.innerHTML = docLinkHtml;\n",
              "        element.appendChild(docLink);\n",
              "      }\n",
              "    </script>\n",
              "  </div>\n",
              "\n",
              "\n",
              "    <div id=\"df-bf37cf8d-07f5-4266-9e5b-7710dfba651f\">\n",
              "      <button class=\"colab-df-quickchart\" onclick=\"quickchart('df-bf37cf8d-07f5-4266-9e5b-7710dfba651f')\"\n",
              "                title=\"Suggest charts\"\n",
              "                style=\"display:none;\">\n",
              "\n",
              "<svg xmlns=\"http://www.w3.org/2000/svg\" height=\"24px\"viewBox=\"0 0 24 24\"\n",
              "     width=\"24px\">\n",
              "    <g>\n",
              "        <path d=\"M19 3H5c-1.1 0-2 .9-2 2v14c0 1.1.9 2 2 2h14c1.1 0 2-.9 2-2V5c0-1.1-.9-2-2-2zM9 17H7v-7h2v7zm4 0h-2V7h2v10zm4 0h-2v-4h2v4z\"/>\n",
              "    </g>\n",
              "</svg>\n",
              "      </button>\n",
              "\n",
              "<style>\n",
              "  .colab-df-quickchart {\n",
              "      --bg-color: #E8F0FE;\n",
              "      --fill-color: #1967D2;\n",
              "      --hover-bg-color: #E2EBFA;\n",
              "      --hover-fill-color: #174EA6;\n",
              "      --disabled-fill-color: #AAA;\n",
              "      --disabled-bg-color: #DDD;\n",
              "  }\n",
              "\n",
              "  [theme=dark] .colab-df-quickchart {\n",
              "      --bg-color: #3B4455;\n",
              "      --fill-color: #D2E3FC;\n",
              "      --hover-bg-color: #434B5C;\n",
              "      --hover-fill-color: #FFFFFF;\n",
              "      --disabled-bg-color: #3B4455;\n",
              "      --disabled-fill-color: #666;\n",
              "  }\n",
              "\n",
              "  .colab-df-quickchart {\n",
              "    background-color: var(--bg-color);\n",
              "    border: none;\n",
              "    border-radius: 50%;\n",
              "    cursor: pointer;\n",
              "    display: none;\n",
              "    fill: var(--fill-color);\n",
              "    height: 32px;\n",
              "    padding: 0;\n",
              "    width: 32px;\n",
              "  }\n",
              "\n",
              "  .colab-df-quickchart:hover {\n",
              "    background-color: var(--hover-bg-color);\n",
              "    box-shadow: 0 1px 2px rgba(60, 64, 67, 0.3), 0 1px 3px 1px rgba(60, 64, 67, 0.15);\n",
              "    fill: var(--button-hover-fill-color);\n",
              "  }\n",
              "\n",
              "  .colab-df-quickchart-complete:disabled,\n",
              "  .colab-df-quickchart-complete:disabled:hover {\n",
              "    background-color: var(--disabled-bg-color);\n",
              "    fill: var(--disabled-fill-color);\n",
              "    box-shadow: none;\n",
              "  }\n",
              "\n",
              "  .colab-df-spinner {\n",
              "    border: 2px solid var(--fill-color);\n",
              "    border-color: transparent;\n",
              "    border-bottom-color: var(--fill-color);\n",
              "    animation:\n",
              "      spin 1s steps(1) infinite;\n",
              "  }\n",
              "\n",
              "  @keyframes spin {\n",
              "    0% {\n",
              "      border-color: transparent;\n",
              "      border-bottom-color: var(--fill-color);\n",
              "      border-left-color: var(--fill-color);\n",
              "    }\n",
              "    20% {\n",
              "      border-color: transparent;\n",
              "      border-left-color: var(--fill-color);\n",
              "      border-top-color: var(--fill-color);\n",
              "    }\n",
              "    30% {\n",
              "      border-color: transparent;\n",
              "      border-left-color: var(--fill-color);\n",
              "      border-top-color: var(--fill-color);\n",
              "      border-right-color: var(--fill-color);\n",
              "    }\n",
              "    40% {\n",
              "      border-color: transparent;\n",
              "      border-right-color: var(--fill-color);\n",
              "      border-top-color: var(--fill-color);\n",
              "    }\n",
              "    60% {\n",
              "      border-color: transparent;\n",
              "      border-right-color: var(--fill-color);\n",
              "    }\n",
              "    80% {\n",
              "      border-color: transparent;\n",
              "      border-right-color: var(--fill-color);\n",
              "      border-bottom-color: var(--fill-color);\n",
              "    }\n",
              "    90% {\n",
              "      border-color: transparent;\n",
              "      border-bottom-color: var(--fill-color);\n",
              "    }\n",
              "  }\n",
              "</style>\n",
              "\n",
              "      <script>\n",
              "        async function quickchart(key) {\n",
              "          const quickchartButtonEl =\n",
              "            document.querySelector('#' + key + ' button');\n",
              "          quickchartButtonEl.disabled = true;  // To prevent multiple clicks.\n",
              "          quickchartButtonEl.classList.add('colab-df-spinner');\n",
              "          try {\n",
              "            const charts = await google.colab.kernel.invokeFunction(\n",
              "                'suggestCharts', [key], {});\n",
              "          } catch (error) {\n",
              "            console.error('Error during call to suggestCharts:', error);\n",
              "          }\n",
              "          quickchartButtonEl.classList.remove('colab-df-spinner');\n",
              "          quickchartButtonEl.classList.add('colab-df-quickchart-complete');\n",
              "        }\n",
              "        (() => {\n",
              "          let quickchartButtonEl =\n",
              "            document.querySelector('#df-bf37cf8d-07f5-4266-9e5b-7710dfba651f button');\n",
              "          quickchartButtonEl.style.display =\n",
              "            google.colab.kernel.accessAllowed ? 'block' : 'none';\n",
              "        })();\n",
              "      </script>\n",
              "    </div>\n",
              "\n",
              "    </div>\n",
              "  </div>\n"
            ],
            "application/vnd.google.colaboratory.intrinsic+json": {
              "type": "dataframe",
              "variable_name": "df"
            }
          },
          "metadata": {},
          "execution_count": 4
        }
      ]
    },
    {
      "cell_type": "markdown",
      "source": [
        "## Analizando y transformando el DataFrame"
      ],
      "metadata": {
        "id": "o6FtgChtZyzW"
      }
    },
    {
      "cell_type": "code",
      "source": [
        "#Mostrar dimensiones del DataFrame\n",
        "print(f\"🔎 Dimensiones del DataFrame: {df.shape}\")\n",
        "\n",
        "#Nombres de columnas y tipos de datos\n",
        "print(\"\\n📋 Tipos de datos por columna:\")\n",
        "print(df.info())\n",
        "\n",
        "#Verificar calores nulos\n",
        "print(\"\\n🧼 Conteo de valores nulos por columna:\")\n",
        "print(df.isnull().sum())\n",
        "\n",
        "# Estadísticas descriptivas para columnas numéricas\n",
        "print(\"\\n📊 Estadísticas descriptivas:\")\n",
        "print(df.describe())\n",
        "\n",
        "# Ver algunos valores únicos por columna categórica\n",
        "print(\"\\n🔠 Valores únicos por algunas columnas:\")\n",
        "for col in df:\n",
        "    print(f\"{col}: {df[col].unique()}\")"
      ],
      "metadata": {
        "colab": {
          "base_uri": "https://localhost:8080/"
        },
        "id": "eBnW2Vicahp9",
        "outputId": "218711a1-48bd-4361-ffda-fca34b3f280f"
      },
      "execution_count": 5,
      "outputs": [
        {
          "output_type": "stream",
          "name": "stdout",
          "text": [
            "🔎 Dimensiones del DataFrame: (7267, 21)\n",
            "\n",
            "📋 Tipos de datos por columna:\n",
            "<class 'pandas.core.frame.DataFrame'>\n",
            "RangeIndex: 7267 entries, 0 to 7266\n",
            "Data columns (total 21 columns):\n",
            " #   Column                     Non-Null Count  Dtype  \n",
            "---  ------                     --------------  -----  \n",
            " 0   customerID                 7267 non-null   object \n",
            " 1   Churn                      7267 non-null   object \n",
            " 2   customer_gender            7267 non-null   object \n",
            " 3   customer_SeniorCitizen     7267 non-null   int64  \n",
            " 4   customer_Partner           7267 non-null   object \n",
            " 5   customer_Dependents        7267 non-null   object \n",
            " 6   customer_tenure            7267 non-null   int64  \n",
            " 7   phone_PhoneService         7267 non-null   object \n",
            " 8   phone_MultipleLines        7267 non-null   object \n",
            " 9   internet_InternetService   7267 non-null   object \n",
            " 10  internet_OnlineSecurity    7267 non-null   object \n",
            " 11  internet_OnlineBackup      7267 non-null   object \n",
            " 12  internet_DeviceProtection  7267 non-null   object \n",
            " 13  internet_TechSupport       7267 non-null   object \n",
            " 14  internet_StreamingTV       7267 non-null   object \n",
            " 15  internet_StreamingMovies   7267 non-null   object \n",
            " 16  account_Contract           7267 non-null   object \n",
            " 17  account_PaperlessBilling   7267 non-null   object \n",
            " 18  account_PaymentMethod      7267 non-null   object \n",
            " 19  account_Charges_Monthly    7267 non-null   float64\n",
            " 20  account_Charges_Total      7267 non-null   object \n",
            "dtypes: float64(1), int64(2), object(18)\n",
            "memory usage: 1.2+ MB\n",
            "None\n",
            "\n",
            "🧼 Conteo de valores nulos por columna:\n",
            "customerID                   0\n",
            "Churn                        0\n",
            "customer_gender              0\n",
            "customer_SeniorCitizen       0\n",
            "customer_Partner             0\n",
            "customer_Dependents          0\n",
            "customer_tenure              0\n",
            "phone_PhoneService           0\n",
            "phone_MultipleLines          0\n",
            "internet_InternetService     0\n",
            "internet_OnlineSecurity      0\n",
            "internet_OnlineBackup        0\n",
            "internet_DeviceProtection    0\n",
            "internet_TechSupport         0\n",
            "internet_StreamingTV         0\n",
            "internet_StreamingMovies     0\n",
            "account_Contract             0\n",
            "account_PaperlessBilling     0\n",
            "account_PaymentMethod        0\n",
            "account_Charges_Monthly      0\n",
            "account_Charges_Total        0\n",
            "dtype: int64\n",
            "\n",
            "📊 Estadísticas descriptivas:\n",
            "       customer_SeniorCitizen  customer_tenure  account_Charges_Monthly\n",
            "count             7267.000000      7267.000000              7267.000000\n",
            "mean                 0.162653        32.346498                64.720098\n",
            "std                  0.369074        24.571773                30.129572\n",
            "min                  0.000000         0.000000                18.250000\n",
            "25%                  0.000000         9.000000                35.425000\n",
            "50%                  0.000000        29.000000                70.300000\n",
            "75%                  0.000000        55.000000                89.875000\n",
            "max                  1.000000        72.000000               118.750000\n",
            "\n",
            "🔠 Valores únicos por algunas columnas:\n",
            "customerID: ['0002-ORFBO' '0003-MKNFE' '0004-TLHLJ' ... '9992-UJOEL' '9993-LHIEB'\n",
            " '9995-HOTOH']\n",
            "Churn: ['No' 'Yes' '']\n",
            "customer_gender: ['Female' 'Male']\n",
            "customer_SeniorCitizen: [0 1]\n",
            "customer_Partner: ['Yes' 'No']\n",
            "customer_Dependents: ['Yes' 'No']\n",
            "customer_tenure: [ 9  4 13  3 71 63  7 65 54 72  5 56 34  1 45 50 23 55 26 69 11 37 49 66\n",
            " 67 20 43 59 12 27  2 25 29 14 35 64 39 40  6 30 70 57 58 16 32 33 10 21\n",
            " 61 15 44 22 24 19 47 62 46 52  8 60 48 28 41 53 68 51 31 36 17 18 38 42\n",
            "  0]\n",
            "phone_PhoneService: ['Yes' 'No']\n",
            "phone_MultipleLines: ['No' 'Yes' 'No phone service']\n",
            "internet_InternetService: ['DSL' 'Fiber optic' 'No']\n",
            "internet_OnlineSecurity: ['No' 'Yes' 'No internet service']\n",
            "internet_OnlineBackup: ['Yes' 'No' 'No internet service']\n",
            "internet_DeviceProtection: ['No' 'Yes' 'No internet service']\n",
            "internet_TechSupport: ['Yes' 'No' 'No internet service']\n",
            "internet_StreamingTV: ['Yes' 'No' 'No internet service']\n",
            "internet_StreamingMovies: ['No' 'Yes' 'No internet service']\n",
            "account_Contract: ['One year' 'Month-to-month' 'Two year']\n",
            "account_PaperlessBilling: ['Yes' 'No']\n",
            "account_PaymentMethod: ['Mailed check' 'Electronic check' 'Credit card (automatic)'\n",
            " 'Bank transfer (automatic)']\n",
            "account_Charges_Monthly: [65.6  59.9  73.9  ... 91.75 68.8  67.85]\n",
            "account_Charges_Total: ['593.3' '542.4' '280.85' ... '742.9' '4627.65' '3707.6']\n"
          ]
        }
      ]
    },
    {
      "cell_type": "code",
      "source": [
        "# Ver columnas disponibles\n",
        "print(\"📌 Columnas en el DataFrame:\")\n",
        "print(df.columns.tolist())"
      ],
      "metadata": {
        "colab": {
          "base_uri": "https://localhost:8080/"
        },
        "id": "7RKF7EC0hKfV",
        "outputId": "9dd1a6be-e980-40b4-961e-6667a9c7f955"
      },
      "execution_count": 6,
      "outputs": [
        {
          "output_type": "stream",
          "name": "stdout",
          "text": [
            "📌 Columnas en el DataFrame:\n",
            "['customerID', 'Churn', 'customer_gender', 'customer_SeniorCitizen', 'customer_Partner', 'customer_Dependents', 'customer_tenure', 'phone_PhoneService', 'phone_MultipleLines', 'internet_InternetService', 'internet_OnlineSecurity', 'internet_OnlineBackup', 'internet_DeviceProtection', 'internet_TechSupport', 'internet_StreamingTV', 'internet_StreamingMovies', 'account_Contract', 'account_PaperlessBilling', 'account_PaymentMethod', 'account_Charges_Monthly', 'account_Charges_Total']\n"
          ]
        }
      ]
    },
    {
      "cell_type": "code",
      "source": [
        "# Limpiar espacios en los nombres de columnas\n",
        "df.columns = df.columns.str.strip().str.lower().str.replace(\" \", \"_\")"
      ],
      "metadata": {
        "id": "hI5Pb-wPhKcM"
      },
      "execution_count": 7,
      "outputs": []
    },
    {
      "cell_type": "code",
      "source": [
        "# Renombrar columnas clave para facilitar su uso\n",
        "df.rename(columns={\n",
        "    'customerid': 'customer_id',\n",
        "    'customer_gender': 'gender',\n",
        "    'customer_seniorcitizen': 'senior_citizen',\n",
        "    'customer_partner': 'partner',\n",
        "    'customer_dependents': 'dependents',\n",
        "    'customer_tenure': 'tenure',\n",
        "    'phone_phoneservice': 'phone_service',\n",
        "    'phone_multiplelines': 'multiple_lines',\n",
        "    'internet_internetservice': 'internet_service',\n",
        "    'internet_onlinesecurity': 'online_security',\n",
        "    'internet_onlinebackup': 'online_backup',\n",
        "    'internet_deviceprotection': 'device_protection',\n",
        "    'internet_techsupport': 'tech_support',\n",
        "    'internet_streamingtv': 'streaming_tv',\n",
        "    'internet_streamingmovies': 'streaming_movies',\n",
        "    'account_contract': 'contract',\n",
        "    'account_paperlessbilling': 'paperless_billing',\n",
        "    'account_paymentmethod': 'payment_method',\n",
        "    'account_charges_monthly': 'monthly_charges',\n",
        "    'account_charges_total': 'total_charges',\n",
        "    'churn': 'churn'\n",
        "}, inplace=True)"
      ],
      "metadata": {
        "id": "rQedFQI4hKZd"
      },
      "execution_count": 8,
      "outputs": []
    },
    {
      "cell_type": "code",
      "source": [
        "# Verificar nombres finales\n",
        "print(\"✅ Columnas después del renombrado:\")\n",
        "print(df.columns.tolist())"
      ],
      "metadata": {
        "colab": {
          "base_uri": "https://localhost:8080/"
        },
        "id": "_gvcLK4ChKXO",
        "outputId": "1c37f67b-b708-4afd-89c7-1e4b77c26d08"
      },
      "execution_count": 9,
      "outputs": [
        {
          "output_type": "stream",
          "name": "stdout",
          "text": [
            "✅ Columnas después del renombrado:\n",
            "['customer_id', 'churn', 'gender', 'senior_citizen', 'partner', 'dependents', 'tenure', 'phone_service', 'multiple_lines', 'internet_service', 'online_security', 'online_backup', 'device_protection', 'tech_support', 'streaming_tv', 'streaming_movies', 'contract', 'paperless_billing', 'payment_method', 'monthly_charges', 'total_charges']\n"
          ]
        }
      ]
    },
    {
      "cell_type": "code",
      "source": [
        "# Revisión de valores únicos en columnas categóricas clave\n",
        "cols_categoricas = ['gender', 'partner', 'dependents', 'phone_service', 'internet_service', 'contract', 'churn']\n",
        "print(\"Columnas: Valores únicos\")\n",
        "for col in cols_categoricas:\n",
        "    if col in df.columns:\n",
        "        print(f\"{col}: {df[col].unique()}\")\n",
        "    else:\n",
        "        print(f\"❌ La columna '{col}' no está presente.\")"
      ],
      "metadata": {
        "colab": {
          "base_uri": "https://localhost:8080/"
        },
        "id": "gdN3N7WXpD7t",
        "outputId": "e08f4ec7-a7d4-40fe-dc68-4b548625fe62"
      },
      "execution_count": 10,
      "outputs": [
        {
          "output_type": "stream",
          "name": "stdout",
          "text": [
            "Columnas: Valores únicos\n",
            "gender: ['Female' 'Male']\n",
            "partner: ['Yes' 'No']\n",
            "dependents: ['Yes' 'No']\n",
            "phone_service: ['Yes' 'No']\n",
            "internet_service: ['DSL' 'Fiber optic' 'No']\n",
            "contract: ['One year' 'Month-to-month' 'Two year']\n",
            "churn: ['No' 'Yes' '']\n"
          ]
        }
      ]
    },
    {
      "cell_type": "markdown",
      "source": [
        "##Organizar y limpiar datos"
      ],
      "metadata": {
        "id": "1gnOMHQJpoI0"
      }
    },
    {
      "cell_type": "code",
      "source": [
        "import numpy as np\n",
        "\n",
        "df['churn'] = df['churn'].replace('', np.nan)"
      ],
      "metadata": {
        "id": "uC-bfv4mpljW"
      },
      "execution_count": 11,
      "outputs": []
    },
    {
      "cell_type": "code",
      "source": [
        "print(\"🔎 Validamos nuevamente Valores nulos por columna:\")\n",
        "print(df.isnull().sum())"
      ],
      "metadata": {
        "id": "bsm-WTLjmHvt",
        "colab": {
          "base_uri": "https://localhost:8080/"
        },
        "outputId": "152ccf24-ab1c-42ec-ba6f-8fc7770f9b0e"
      },
      "execution_count": 12,
      "outputs": [
        {
          "output_type": "stream",
          "name": "stdout",
          "text": [
            "🔎 Validamos nuevamente Valores nulos por columna:\n",
            "customer_id            0\n",
            "churn                224\n",
            "gender                 0\n",
            "senior_citizen         0\n",
            "partner                0\n",
            "dependents             0\n",
            "tenure                 0\n",
            "phone_service          0\n",
            "multiple_lines         0\n",
            "internet_service       0\n",
            "online_security        0\n",
            "online_backup          0\n",
            "device_protection      0\n",
            "tech_support           0\n",
            "streaming_tv           0\n",
            "streaming_movies       0\n",
            "contract               0\n",
            "paperless_billing      0\n",
            "payment_method         0\n",
            "monthly_charges        0\n",
            "total_charges          0\n",
            "dtype: int64\n"
          ]
        }
      ]
    },
    {
      "cell_type": "code",
      "source": [
        "# Eliminar filas sin valor en churn y mostrar nuevas dimensiones del df\n",
        "df_clean = df.dropna(subset=['churn'])\n",
        "print(f\"✅ Nuevas dimensiones del dataset: {df_clean.shape}\")"
      ],
      "metadata": {
        "colab": {
          "base_uri": "https://localhost:8080/"
        },
        "id": "Q-AT5FMrpxVr",
        "outputId": "b1d58be5-690b-402f-9d51-458c526ba010"
      },
      "execution_count": 13,
      "outputs": [
        {
          "output_type": "stream",
          "name": "stdout",
          "text": [
            "✅ Nuevas dimensiones del dataset: (7043, 21)\n"
          ]
        }
      ]
    },
    {
      "cell_type": "code",
      "source": [],
      "metadata": {
        "id": "iqfbAGEhvCPB"
      },
      "execution_count": 13,
      "outputs": []
    },
    {
      "cell_type": "markdown",
      "source": [
        "#🔧 Transformación"
      ],
      "metadata": {
        "id": "1lSZP8zmmGZu"
      }
    },
    {
      "cell_type": "markdown",
      "source": [
        "## Actividades:\n",
        "✅ Explorar las columnas del dataset y verificar sus tipos de datos.\n",
        "\n",
        "✅ Consultar el diccionario para comprender mejor el significado de las variables.\n",
        "\n",
        "✅ Identificar las columnas más relevantes para el análisis de evasión."
      ],
      "metadata": {
        "id": "omWCe0fssgNa"
      }
    },
    {
      "cell_type": "code",
      "source": [
        "# Selección de columnas relevantes para el análisis de churn\n",
        "cols_relevantes = [\n",
        "    'gender', 'senior_citizen', 'partner', 'dependents', 'tenure',\n",
        "    'phone_service', 'multiple_lines', 'internet_service', 'online_security',\n",
        "    'online_backup', 'device_protection', 'tech_support', 'streaming_tv',\n",
        "    'streaming_movies', 'contract', 'paperless_billing', 'payment_method',\n",
        "    'monthly_charges', 'total_charges', 'churn'\n",
        "]"
      ],
      "metadata": {
        "id": "ca5sY2O2p9RV"
      },
      "execution_count": 14,
      "outputs": []
    },
    {
      "cell_type": "code",
      "source": [
        "# Crear nuevo DataFrame con solo las columnas seleccionadas\n",
        "df_relevante = df_clean[cols_relevantes].copy()"
      ],
      "metadata": {
        "id": "cwAoaKdFp9OU"
      },
      "execution_count": 15,
      "outputs": []
    },
    {
      "cell_type": "code",
      "source": [
        "# Confirmar que no haya valores nulos en las columnas seleccionadas\n",
        "print(\"\\n🔍 Revisión de valores nulos:\")\n",
        "print(df_relevante.isnull().sum())"
      ],
      "metadata": {
        "colab": {
          "base_uri": "https://localhost:8080/"
        },
        "id": "_di5r4kNwLCB",
        "outputId": "56193b8f-226d-4df0-849c-fac00a72a642"
      },
      "execution_count": 24,
      "outputs": [
        {
          "output_type": "stream",
          "name": "stdout",
          "text": [
            "\n",
            "🔍 Revisión de valores nulos:\n",
            "gender               0\n",
            "senior_citizen       0\n",
            "partner              0\n",
            "dependents           0\n",
            "tenure               0\n",
            "phone_service        0\n",
            "multiple_lines       0\n",
            "internet_service     0\n",
            "online_security      0\n",
            "online_backup        0\n",
            "device_protection    0\n",
            "tech_support         0\n",
            "streaming_tv         0\n",
            "streaming_movies     0\n",
            "contract             0\n",
            "paperless_billing    0\n",
            "payment_method       0\n",
            "monthly_charges      0\n",
            "total_charges        0\n",
            "churn                0\n",
            "dtype: int64\n"
          ]
        }
      ]
    },
    {
      "cell_type": "code",
      "source": [
        "print(\"🔍 Valores vacíos como string:\")\n",
        "for col in df_relevante.columns:\n",
        "    vacios = (df_relevante[col] == '').sum()\n",
        "if vacios > 0:\n",
        "\n",
        "  print(f\"{col}: {vacios} valores vacíos\")\n",
        "else:\n",
        "  print(\"No hay valores vacíos como string\")\n"
      ],
      "metadata": {
        "colab": {
          "base_uri": "https://localhost:8080/"
        },
        "id": "6hrSapJnwK_c",
        "outputId": "01d9cde6-abdf-48e9-f7e7-fdcc415e511a"
      },
      "execution_count": 20,
      "outputs": [
        {
          "output_type": "stream",
          "name": "stdout",
          "text": [
            "🔍 Valores vacíos como string:\n",
            "No hay valores vacíos como string\n"
          ]
        }
      ]
    },
    {
      "cell_type": "code",
      "source": [
        "# Revisar tipos de datos\n",
        "print(\"\\n📋 Tipos de datos por columna:\")\n",
        "print(df_relevante.dtypes)"
      ],
      "metadata": {
        "colab": {
          "base_uri": "https://localhost:8080/"
        },
        "id": "B15tyjsbxGAJ",
        "outputId": "925d8e7b-3451-4201-8be0-3c67b51433e6"
      },
      "execution_count": 25,
      "outputs": [
        {
          "output_type": "stream",
          "name": "stdout",
          "text": [
            "\n",
            "📋 Tipos de datos por columna:\n",
            "gender                object\n",
            "senior_citizen         int64\n",
            "partner               object\n",
            "dependents            object\n",
            "tenure                 int64\n",
            "phone_service         object\n",
            "multiple_lines        object\n",
            "internet_service      object\n",
            "online_security       object\n",
            "online_backup         object\n",
            "device_protection     object\n",
            "tech_support          object\n",
            "streaming_tv          object\n",
            "streaming_movies      object\n",
            "contract              object\n",
            "paperless_billing     object\n",
            "payment_method        object\n",
            "monthly_charges      float64\n",
            "total_charges         object\n",
            "churn                 object\n",
            "dtype: object\n"
          ]
        }
      ]
    },
    {
      "cell_type": "code",
      "source": [
        "# Convertir total_charges a numérico (en algunos casos puede estar como string)\n",
        "df_relevante['total_charges'] = pd.to_numeric(df_relevante['total_charges'], errors='coerce')"
      ],
      "metadata": {
        "id": "rCLl57Q4xF6i"
      },
      "execution_count": 26,
      "outputs": []
    },
    {
      "cell_type": "code",
      "source": [
        "import numpy as np\n",
        "\n",
        "# Reemplazar strings vacíos por NaN\n",
        "df_relevante.replace('', np.nan, inplace=True)\n",
        "\n",
        "# Convertir total_charges a float\n",
        "df_relevante['total_charges'] = pd.to_numeric(df_relevante['total_charges'], errors='coerce')\n",
        "\n",
        "\n",
        "# Mostrar valores nulos tras la conversión\n",
        "print(\"🔍 Valores nulos después de reemplazo y conversión:\")\n",
        "print(df_relevante.isnull().sum())"
      ],
      "metadata": {
        "colab": {
          "base_uri": "https://localhost:8080/"
        },
        "id": "-SN8nvAhUv3O",
        "outputId": "707aef1d-c62b-4a19-e508-51900fb419bf"
      },
      "execution_count": 30,
      "outputs": [
        {
          "output_type": "stream",
          "name": "stdout",
          "text": [
            "🔍 Valores nulos después de reemplazo y conversión:\n",
            "gender                0\n",
            "senior_citizen        0\n",
            "partner               0\n",
            "dependents            0\n",
            "tenure                0\n",
            "phone_service         0\n",
            "multiple_lines        0\n",
            "internet_service      0\n",
            "online_security       0\n",
            "online_backup         0\n",
            "device_protection     0\n",
            "tech_support          0\n",
            "streaming_tv          0\n",
            "streaming_movies      0\n",
            "contract              0\n",
            "paperless_billing     0\n",
            "payment_method        0\n",
            "monthly_charges       0\n",
            "total_charges        11\n",
            "churn                 0\n",
            "dtype: int64\n"
          ]
        }
      ]
    },
    {
      "cell_type": "code",
      "source": [
        "# Eliminar registros donde churn o total_charges estén vacíos\n",
        "df_relevante.dropna(subset=['churn', 'total_charges'], inplace=True)\n",
        "\n",
        "# Resetear el índice por orden\n",
        "df_relevante.reset_index(drop=True, inplace=True)\n",
        "\n",
        "# Confirmar el tamaño final del dataset\n",
        "print(f\"\\n✅ Dimensiones finales del dataset limpio: {df_relevante.shape}\")"
      ],
      "metadata": {
        "colab": {
          "base_uri": "https://localhost:8080/"
        },
        "id": "o9N9iZurUvwV",
        "outputId": "990425e7-536d-4075-9ad8-4d77ad1b12be"
      },
      "execution_count": 32,
      "outputs": [
        {
          "output_type": "stream",
          "name": "stdout",
          "text": [
            "\n",
            "✅ Dimensiones finales del dataset limpio: (7032, 20)\n"
          ]
        }
      ]
    },
    {
      "cell_type": "markdown",
      "source": [
        "##Limpiando categorías"
      ],
      "metadata": {
        "id": "59jR1N14XQji"
      }
    },
    {
      "cell_type": "code",
      "source": [
        "print(\"\\n🔎 Valores únicos por variable categórica:\")\n",
        "categorical_columns = df_relevante.select_dtypes(include='object').columns\n",
        "\n",
        "for col in categorical_columns:\n",
        "    print(f\"{col}: {df_relevante[col].unique()}\")"
      ],
      "metadata": {
        "colab": {
          "base_uri": "https://localhost:8080/"
        },
        "id": "ABsprIA_WzD8",
        "outputId": "b162c1d6-7625-41cf-b294-d7888571513d"
      },
      "execution_count": 34,
      "outputs": [
        {
          "output_type": "stream",
          "name": "stdout",
          "text": [
            "\n",
            "🔎 Valores únicos por variable categórica:\n",
            "gender: ['Female' 'Male']\n",
            "partner: ['Yes' 'No']\n",
            "dependents: ['Yes' 'No']\n",
            "phone_service: ['Yes' 'No']\n",
            "multiple_lines: ['No' 'Yes' 'No phone service']\n",
            "internet_service: ['DSL' 'Fiber optic' 'No']\n",
            "online_security: ['No' 'Yes' 'No internet service']\n",
            "online_backup: ['Yes' 'No' 'No internet service']\n",
            "device_protection: ['No' 'Yes' 'No internet service']\n",
            "tech_support: ['Yes' 'No' 'No internet service']\n",
            "streaming_tv: ['Yes' 'No' 'No internet service']\n",
            "streaming_movies: ['No' 'Yes' 'No internet service']\n",
            "contract: ['One year' 'Month-to-month' 'Two year']\n",
            "paperless_billing: ['Yes' 'No']\n",
            "payment_method: ['Mailed check' 'Electronic check' 'Credit card (automatic)'\n",
            " 'Bank transfer (automatic)']\n",
            "churn: ['No' 'Yes']\n"
          ]
        }
      ]
    },
    {
      "cell_type": "code",
      "source": [
        "# Reemplazar \"No internet service\" por \"No\" en las columnas correspondientes\n",
        "internet_features = [\n",
        "    'online_security', 'online_backup', 'device_protection',\n",
        "    'tech_support', 'streaming_tv', 'streaming_movies'\n",
        "]\n",
        "\n",
        "for col in internet_features:\n",
        "    df_relevante[col] = df_relevante[col].replace('No internet service', 'No')\n",
        "\n",
        "# Reemplazar \"No phone service\" por \"No\" en la columna multiple_lines\n",
        "df_relevante['multiple_lines'] = df_relevante['multiple_lines'].replace('No phone service', 'No')"
      ],
      "metadata": {
        "id": "fGnqxHNEWy6v"
      },
      "execution_count": 35,
      "outputs": []
    },
    {
      "cell_type": "code",
      "source": [
        "# Crear la nueva columna dividiendo el cargo mensual por 30 días\n",
        "df_relevante['cuentas_diarias'] = df_relevante['monthly_charges'] / 30\n",
        "\n",
        "# Mostrar las primeras filas para confirmar\n",
        "df_relevante[['monthly_charges', 'cuentas_diarias']].head()\n"
      ],
      "metadata": {
        "colab": {
          "base_uri": "https://localhost:8080/",
          "height": 206
        },
        "id": "iVSTSidPWyyl",
        "outputId": "3dfb3908-f3aa-4cda-8705-d157f2ec12c2"
      },
      "execution_count": 36,
      "outputs": [
        {
          "output_type": "execute_result",
          "data": {
            "text/plain": [
              "   monthly_charges  cuentas_diarias\n",
              "0             65.6         2.186667\n",
              "1             59.9         1.996667\n",
              "2             73.9         2.463333\n",
              "3             98.0         3.266667\n",
              "4             83.9         2.796667"
            ],
            "text/html": [
              "\n",
              "  <div id=\"df-606fec5c-99f3-4dcc-88ea-c174d0433695\" class=\"colab-df-container\">\n",
              "    <div>\n",
              "<style scoped>\n",
              "    .dataframe tbody tr th:only-of-type {\n",
              "        vertical-align: middle;\n",
              "    }\n",
              "\n",
              "    .dataframe tbody tr th {\n",
              "        vertical-align: top;\n",
              "    }\n",
              "\n",
              "    .dataframe thead th {\n",
              "        text-align: right;\n",
              "    }\n",
              "</style>\n",
              "<table border=\"1\" class=\"dataframe\">\n",
              "  <thead>\n",
              "    <tr style=\"text-align: right;\">\n",
              "      <th></th>\n",
              "      <th>monthly_charges</th>\n",
              "      <th>cuentas_diarias</th>\n",
              "    </tr>\n",
              "  </thead>\n",
              "  <tbody>\n",
              "    <tr>\n",
              "      <th>0</th>\n",
              "      <td>65.6</td>\n",
              "      <td>2.186667</td>\n",
              "    </tr>\n",
              "    <tr>\n",
              "      <th>1</th>\n",
              "      <td>59.9</td>\n",
              "      <td>1.996667</td>\n",
              "    </tr>\n",
              "    <tr>\n",
              "      <th>2</th>\n",
              "      <td>73.9</td>\n",
              "      <td>2.463333</td>\n",
              "    </tr>\n",
              "    <tr>\n",
              "      <th>3</th>\n",
              "      <td>98.0</td>\n",
              "      <td>3.266667</td>\n",
              "    </tr>\n",
              "    <tr>\n",
              "      <th>4</th>\n",
              "      <td>83.9</td>\n",
              "      <td>2.796667</td>\n",
              "    </tr>\n",
              "  </tbody>\n",
              "</table>\n",
              "</div>\n",
              "    <div class=\"colab-df-buttons\">\n",
              "\n",
              "  <div class=\"colab-df-container\">\n",
              "    <button class=\"colab-df-convert\" onclick=\"convertToInteractive('df-606fec5c-99f3-4dcc-88ea-c174d0433695')\"\n",
              "            title=\"Convert this dataframe to an interactive table.\"\n",
              "            style=\"display:none;\">\n",
              "\n",
              "  <svg xmlns=\"http://www.w3.org/2000/svg\" height=\"24px\" viewBox=\"0 -960 960 960\">\n",
              "    <path d=\"M120-120v-720h720v720H120Zm60-500h600v-160H180v160Zm220 220h160v-160H400v160Zm0 220h160v-160H400v160ZM180-400h160v-160H180v160Zm440 0h160v-160H620v160ZM180-180h160v-160H180v160Zm440 0h160v-160H620v160Z\"/>\n",
              "  </svg>\n",
              "    </button>\n",
              "\n",
              "  <style>\n",
              "    .colab-df-container {\n",
              "      display:flex;\n",
              "      gap: 12px;\n",
              "    }\n",
              "\n",
              "    .colab-df-convert {\n",
              "      background-color: #E8F0FE;\n",
              "      border: none;\n",
              "      border-radius: 50%;\n",
              "      cursor: pointer;\n",
              "      display: none;\n",
              "      fill: #1967D2;\n",
              "      height: 32px;\n",
              "      padding: 0 0 0 0;\n",
              "      width: 32px;\n",
              "    }\n",
              "\n",
              "    .colab-df-convert:hover {\n",
              "      background-color: #E2EBFA;\n",
              "      box-shadow: 0px 1px 2px rgba(60, 64, 67, 0.3), 0px 1px 3px 1px rgba(60, 64, 67, 0.15);\n",
              "      fill: #174EA6;\n",
              "    }\n",
              "\n",
              "    .colab-df-buttons div {\n",
              "      margin-bottom: 4px;\n",
              "    }\n",
              "\n",
              "    [theme=dark] .colab-df-convert {\n",
              "      background-color: #3B4455;\n",
              "      fill: #D2E3FC;\n",
              "    }\n",
              "\n",
              "    [theme=dark] .colab-df-convert:hover {\n",
              "      background-color: #434B5C;\n",
              "      box-shadow: 0px 1px 3px 1px rgba(0, 0, 0, 0.15);\n",
              "      filter: drop-shadow(0px 1px 2px rgba(0, 0, 0, 0.3));\n",
              "      fill: #FFFFFF;\n",
              "    }\n",
              "  </style>\n",
              "\n",
              "    <script>\n",
              "      const buttonEl =\n",
              "        document.querySelector('#df-606fec5c-99f3-4dcc-88ea-c174d0433695 button.colab-df-convert');\n",
              "      buttonEl.style.display =\n",
              "        google.colab.kernel.accessAllowed ? 'block' : 'none';\n",
              "\n",
              "      async function convertToInteractive(key) {\n",
              "        const element = document.querySelector('#df-606fec5c-99f3-4dcc-88ea-c174d0433695');\n",
              "        const dataTable =\n",
              "          await google.colab.kernel.invokeFunction('convertToInteractive',\n",
              "                                                    [key], {});\n",
              "        if (!dataTable) return;\n",
              "\n",
              "        const docLinkHtml = 'Like what you see? Visit the ' +\n",
              "          '<a target=\"_blank\" href=https://colab.research.google.com/notebooks/data_table.ipynb>data table notebook</a>'\n",
              "          + ' to learn more about interactive tables.';\n",
              "        element.innerHTML = '';\n",
              "        dataTable['output_type'] = 'display_data';\n",
              "        await google.colab.output.renderOutput(dataTable, element);\n",
              "        const docLink = document.createElement('div');\n",
              "        docLink.innerHTML = docLinkHtml;\n",
              "        element.appendChild(docLink);\n",
              "      }\n",
              "    </script>\n",
              "  </div>\n",
              "\n",
              "\n",
              "    <div id=\"df-d3fd81b2-4b63-4cc5-94e1-99c83a948e30\">\n",
              "      <button class=\"colab-df-quickchart\" onclick=\"quickchart('df-d3fd81b2-4b63-4cc5-94e1-99c83a948e30')\"\n",
              "                title=\"Suggest charts\"\n",
              "                style=\"display:none;\">\n",
              "\n",
              "<svg xmlns=\"http://www.w3.org/2000/svg\" height=\"24px\"viewBox=\"0 0 24 24\"\n",
              "     width=\"24px\">\n",
              "    <g>\n",
              "        <path d=\"M19 3H5c-1.1 0-2 .9-2 2v14c0 1.1.9 2 2 2h14c1.1 0 2-.9 2-2V5c0-1.1-.9-2-2-2zM9 17H7v-7h2v7zm4 0h-2V7h2v10zm4 0h-2v-4h2v4z\"/>\n",
              "    </g>\n",
              "</svg>\n",
              "      </button>\n",
              "\n",
              "<style>\n",
              "  .colab-df-quickchart {\n",
              "      --bg-color: #E8F0FE;\n",
              "      --fill-color: #1967D2;\n",
              "      --hover-bg-color: #E2EBFA;\n",
              "      --hover-fill-color: #174EA6;\n",
              "      --disabled-fill-color: #AAA;\n",
              "      --disabled-bg-color: #DDD;\n",
              "  }\n",
              "\n",
              "  [theme=dark] .colab-df-quickchart {\n",
              "      --bg-color: #3B4455;\n",
              "      --fill-color: #D2E3FC;\n",
              "      --hover-bg-color: #434B5C;\n",
              "      --hover-fill-color: #FFFFFF;\n",
              "      --disabled-bg-color: #3B4455;\n",
              "      --disabled-fill-color: #666;\n",
              "  }\n",
              "\n",
              "  .colab-df-quickchart {\n",
              "    background-color: var(--bg-color);\n",
              "    border: none;\n",
              "    border-radius: 50%;\n",
              "    cursor: pointer;\n",
              "    display: none;\n",
              "    fill: var(--fill-color);\n",
              "    height: 32px;\n",
              "    padding: 0;\n",
              "    width: 32px;\n",
              "  }\n",
              "\n",
              "  .colab-df-quickchart:hover {\n",
              "    background-color: var(--hover-bg-color);\n",
              "    box-shadow: 0 1px 2px rgba(60, 64, 67, 0.3), 0 1px 3px 1px rgba(60, 64, 67, 0.15);\n",
              "    fill: var(--button-hover-fill-color);\n",
              "  }\n",
              "\n",
              "  .colab-df-quickchart-complete:disabled,\n",
              "  .colab-df-quickchart-complete:disabled:hover {\n",
              "    background-color: var(--disabled-bg-color);\n",
              "    fill: var(--disabled-fill-color);\n",
              "    box-shadow: none;\n",
              "  }\n",
              "\n",
              "  .colab-df-spinner {\n",
              "    border: 2px solid var(--fill-color);\n",
              "    border-color: transparent;\n",
              "    border-bottom-color: var(--fill-color);\n",
              "    animation:\n",
              "      spin 1s steps(1) infinite;\n",
              "  }\n",
              "\n",
              "  @keyframes spin {\n",
              "    0% {\n",
              "      border-color: transparent;\n",
              "      border-bottom-color: var(--fill-color);\n",
              "      border-left-color: var(--fill-color);\n",
              "    }\n",
              "    20% {\n",
              "      border-color: transparent;\n",
              "      border-left-color: var(--fill-color);\n",
              "      border-top-color: var(--fill-color);\n",
              "    }\n",
              "    30% {\n",
              "      border-color: transparent;\n",
              "      border-left-color: var(--fill-color);\n",
              "      border-top-color: var(--fill-color);\n",
              "      border-right-color: var(--fill-color);\n",
              "    }\n",
              "    40% {\n",
              "      border-color: transparent;\n",
              "      border-right-color: var(--fill-color);\n",
              "      border-top-color: var(--fill-color);\n",
              "    }\n",
              "    60% {\n",
              "      border-color: transparent;\n",
              "      border-right-color: var(--fill-color);\n",
              "    }\n",
              "    80% {\n",
              "      border-color: transparent;\n",
              "      border-right-color: var(--fill-color);\n",
              "      border-bottom-color: var(--fill-color);\n",
              "    }\n",
              "    90% {\n",
              "      border-color: transparent;\n",
              "      border-bottom-color: var(--fill-color);\n",
              "    }\n",
              "  }\n",
              "</style>\n",
              "\n",
              "      <script>\n",
              "        async function quickchart(key) {\n",
              "          const quickchartButtonEl =\n",
              "            document.querySelector('#' + key + ' button');\n",
              "          quickchartButtonEl.disabled = true;  // To prevent multiple clicks.\n",
              "          quickchartButtonEl.classList.add('colab-df-spinner');\n",
              "          try {\n",
              "            const charts = await google.colab.kernel.invokeFunction(\n",
              "                'suggestCharts', [key], {});\n",
              "          } catch (error) {\n",
              "            console.error('Error during call to suggestCharts:', error);\n",
              "          }\n",
              "          quickchartButtonEl.classList.remove('colab-df-spinner');\n",
              "          quickchartButtonEl.classList.add('colab-df-quickchart-complete');\n",
              "        }\n",
              "        (() => {\n",
              "          let quickchartButtonEl =\n",
              "            document.querySelector('#df-d3fd81b2-4b63-4cc5-94e1-99c83a948e30 button');\n",
              "          quickchartButtonEl.style.display =\n",
              "            google.colab.kernel.accessAllowed ? 'block' : 'none';\n",
              "        })();\n",
              "      </script>\n",
              "    </div>\n",
              "\n",
              "    </div>\n",
              "  </div>\n"
            ],
            "application/vnd.google.colaboratory.intrinsic+json": {
              "type": "dataframe",
              "summary": "{\n  \"name\": \"df_relevante[['monthly_charges', 'cuentas_diarias']]\",\n  \"rows\": 5,\n  \"fields\": [\n    {\n      \"column\": \"monthly_charges\",\n      \"properties\": {\n        \"dtype\": \"number\",\n        \"std\": 15.148036176349727,\n        \"min\": 59.9,\n        \"max\": 98.0,\n        \"num_unique_values\": 5,\n        \"samples\": [\n          59.9,\n          83.9,\n          73.9\n        ],\n        \"semantic_type\": \"\",\n        \"description\": \"\"\n      }\n    },\n    {\n      \"column\": \"cuentas_diarias\",\n      \"properties\": {\n        \"dtype\": \"number\",\n        \"std\": 0.5049345392116575,\n        \"min\": 1.9966666666666666,\n        \"max\": 3.2666666666666666,\n        \"num_unique_values\": 5,\n        \"samples\": [\n          1.9966666666666666,\n          2.796666666666667,\n          2.4633333333333334\n        ],\n        \"semantic_type\": \"\",\n        \"description\": \"\"\n      }\n    }\n  ]\n}"
            }
          },
          "metadata": {},
          "execution_count": 36
        }
      ]
    },
    {
      "cell_type": "markdown",
      "source": [
        "##Estandarizar dato en el DF"
      ],
      "metadata": {
        "id": "srvkSqWaXuRc"
      }
    },
    {
      "cell_type": "code",
      "source": [
        "binarias = [\n",
        "    'partner', 'dependents', 'phone_service', 'multiple_lines',\n",
        "    'online_security', 'online_backup', 'device_protection',\n",
        "    'tech_support', 'streaming_tv', 'streaming_movies',\n",
        "    'paperless_billing', 'churn'\n",
        "]\n",
        "pd.set_option('future.no_silent_downcasting', True)\n",
        "# Transformar \"Yes\" → 1 y \"No\" → 0\n",
        "df_relevante[binarias] = df_relevante[binarias].replace({'Yes': 1, 'No': 0})\n",
        "df_relevante[binarias] = df_relevante[binarias].infer_objects()"
      ],
      "metadata": {
        "id": "twC3HWzuXuHO"
      },
      "execution_count": 45,
      "outputs": []
    },
    {
      "cell_type": "markdown",
      "source": [
        "#📊 Carga y análisis"
      ],
      "metadata": {
        "id": "6XnTC2NTmMRL"
      }
    },
    {
      "cell_type": "code",
      "source": [
        "# Seleccionar solo columnas numéricas\n",
        "df_numericas = df_relevante.select_dtypes(include=['number'])\n",
        "\n",
        "# Análisis descriptivo básico para columnas numéricas\n",
        "descripcion = df_numericas.describe().T\n",
        "\n",
        "# Calcular la mediana de cada columna numérica\n",
        "medianas = df_numericas.median()\n",
        "\n",
        "# Añadir la mediana al DataFrame resumen\n",
        "descripcion['median'] = medianas\n",
        "\n",
        "# Calcular rango intercuartílico (IQR)\n",
        "iqr = df_numericas.quantile(0.75) - df_numericas.quantile(0.25)\n",
        "descripcion['IQR'] = iqr\n",
        "\n",
        "print(\"Análisis descriptivo numérico:\")\n",
        "print(descripcion)\n",
        "\n",
        "# Mostrar variables categóricas y sus valores únicos para complementar el análisis\n",
        "columnas_categoricas = df_relevante.select_dtypes(include=['object']).columns\n",
        "print(\"\\nColumnas categóricas y sus valores únicos:\")\n",
        "for col in columnas_categoricas:\n",
        "    print(f\"{col}: {df_relevante[col].unique()}\")"
      ],
      "metadata": {
        "id": "1jgUnLqTmPdd",
        "colab": {
          "base_uri": "https://localhost:8080/"
        },
        "outputId": "99bfe7ba-d0c5-41a9-b62a-a117f9cacd1c"
      },
      "execution_count": 47,
      "outputs": [
        {
          "output_type": "stream",
          "name": "stdout",
          "text": [
            "Análisis descriptivo numérico:\n",
            "                    count         mean          std        min        25%  \\\n",
            "senior_citizen     7032.0     0.162400     0.368844   0.000000    0.00000   \n",
            "partner            7032.0     0.482509     0.499729   0.000000    0.00000   \n",
            "dependents         7032.0     0.298493     0.457629   0.000000    0.00000   \n",
            "tenure             7032.0    32.421786    24.545260   1.000000    9.00000   \n",
            "phone_service      7032.0     0.903299     0.295571   0.000000    1.00000   \n",
            "multiple_lines     7032.0     0.421928     0.493902   0.000000    0.00000   \n",
            "online_security    7032.0     0.286547     0.452180   0.000000    0.00000   \n",
            "online_backup      7032.0     0.344852     0.475354   0.000000    0.00000   \n",
            "device_protection  7032.0     0.343857     0.475028   0.000000    0.00000   \n",
            "tech_support       7032.0     0.290102     0.453842   0.000000    0.00000   \n",
            "streaming_tv       7032.0     0.384386     0.486484   0.000000    0.00000   \n",
            "streaming_movies   7032.0     0.388367     0.487414   0.000000    0.00000   \n",
            "paperless_billing  7032.0     0.592719     0.491363   0.000000    0.00000   \n",
            "monthly_charges    7032.0    64.798208    30.085974  18.250000   35.58750   \n",
            "total_charges      7032.0  2283.300441  2266.771362  18.800000  401.45000   \n",
            "churn              7032.0     0.265785     0.441782   0.000000    0.00000   \n",
            "cuentas_diarias    7032.0     2.159940     1.002866   0.608333    1.18625   \n",
            "\n",
            "                        50%          75%          max    median          IQR  \n",
            "senior_citizen        0.000     0.000000     1.000000     0.000     0.000000  \n",
            "partner               0.000     1.000000     1.000000     0.000     1.000000  \n",
            "dependents            0.000     1.000000     1.000000     0.000     1.000000  \n",
            "tenure               29.000    55.000000    72.000000    29.000    46.000000  \n",
            "phone_service         1.000     1.000000     1.000000     1.000     0.000000  \n",
            "multiple_lines        0.000     1.000000     1.000000     0.000     1.000000  \n",
            "online_security       0.000     1.000000     1.000000     0.000     1.000000  \n",
            "online_backup         0.000     1.000000     1.000000     0.000     1.000000  \n",
            "device_protection     0.000     1.000000     1.000000     0.000     1.000000  \n",
            "tech_support          0.000     1.000000     1.000000     0.000     1.000000  \n",
            "streaming_tv          0.000     1.000000     1.000000     0.000     1.000000  \n",
            "streaming_movies      0.000     1.000000     1.000000     0.000     1.000000  \n",
            "paperless_billing     1.000     1.000000     1.000000     1.000     1.000000  \n",
            "monthly_charges      70.350    89.862500   118.750000    70.350    54.275000  \n",
            "total_charges      1397.475  3794.737500  8684.800000  1397.475  3393.287500  \n",
            "churn                 0.000     1.000000     1.000000     0.000     1.000000  \n",
            "cuentas_diarias       2.345     2.995417     3.958333     2.345     1.809167  \n",
            "\n",
            "Columnas categóricas y sus valores únicos:\n",
            "gender: ['Female' 'Male']\n",
            "internet_service: ['DSL' 'Fiber optic' 'No']\n",
            "contract: ['One year' 'Month-to-month' 'Two year']\n",
            "payment_method: ['Mailed check' 'Electronic check' 'Credit card (automatic)'\n",
            " 'Bank transfer (automatic)']\n"
          ]
        }
      ]
    },
    {
      "cell_type": "code",
      "source": [],
      "metadata": {
        "id": "L43P5kXhp_Z0"
      },
      "execution_count": 18,
      "outputs": []
    },
    {
      "cell_type": "code",
      "source": [],
      "metadata": {
        "id": "iVTavEPUp_XL"
      },
      "execution_count": 18,
      "outputs": []
    },
    {
      "cell_type": "markdown",
      "source": [
        "#📄Informe final"
      ],
      "metadata": {
        "id": "v-WzfSvTmaw9"
      }
    },
    {
      "cell_type": "code",
      "source": [],
      "metadata": {
        "id": "XMTac0YJmeK9"
      },
      "execution_count": 18,
      "outputs": []
    },
    {
      "cell_type": "code",
      "source": [],
      "metadata": {
        "id": "MiQ8rVliqAAc"
      },
      "execution_count": 18,
      "outputs": []
    },
    {
      "cell_type": "code",
      "source": [],
      "metadata": {
        "id": "2wDLrHpuqAC_"
      },
      "execution_count": 18,
      "outputs": []
    }
  ]
}